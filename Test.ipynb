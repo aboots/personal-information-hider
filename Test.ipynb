{
 "cells": [
  {
   "cell_type": "code",
   "execution_count": 1,
   "metadata": {},
   "outputs": [],
   "source": [
    "from personal_information_hider import run"
   ]
  },
  {
   "cell_type": "code",
   "execution_count": 2,
   "metadata": {},
   "outputs": [
    {
     "name": "stdout",
     "output_type": "stream",
     "text": [
      "سلام. نام من <#person_name#>  است. امروز چهارم اردیبهشت ماه سال ۱۴۰۱ می‌باشد. من در حال کار روی تمرین بازیابی هستم و میوه‌های بسیار خوش مزه در کتاب خانه هست. \n",
      "اینجانب <#person_name#>  به شماره ملی <#national_number#> هستم و شماره حساب بانک  <#person_name#> <#account_number#> است. \n",
      "أدرس ایمیل بنده <#email_address#> است و هم‌ چنین می‌‌ توانید به وب سایت <#url_address#> مراجعه کنید. \n",
      "وب سایت <#url_address#> یک وب سایت جامع است.\n"
     ]
    }
   ],
   "source": [
    "print(run('test.txt', False))"
   ]
  },
  {
   "cell_type": "code",
   "execution_count": 3,
   "metadata": {},
   "outputs": [
    {
     "name": "stdout",
     "output_type": "stream",
     "text": [
      " <#person_name#>  هستم. من علاقه‌ زیادی به کار در شرکت <#company_name#> دارم. من با این شرکت <#company_name#> طریق دوستم <#person_name#>  آشنا شدم. \n",
      "از آنجا که این شرکت <#company_name#> <#address#>  <#person_name#> گاه ما نزدیک بوده و من برای رفت‌ و آمد با مشکل چندانی رو به رو نخواهم بود. \n",
      "شماره تماس من <#phone#> و ایمیل من <#email_address#> است. در وبلاگ خودم یعنی <#url_address#> بیشتر به علایقم پرداخته‌ام.\n"
     ]
    }
   ],
   "source": [
    "print(run('test2.txt', False))"
   ]
  },
  {
   "cell_type": "code",
   "execution_count": null,
   "metadata": {},
   "outputs": [],
   "source": []
  }
 ],
 "metadata": {
  "celltoolbar": "Raw Cell Format",
  "interpreter": {
   "hash": "f336af7d54ba0f0c1daaf2256eb85f31e983e88153daf7a27ef3ea6c724faba4"
  },
  "kernelspec": {
   "display_name": "Python 3",
   "language": "python",
   "name": "python3"
  },
  "language_info": {
   "codemirror_mode": {
    "name": "ipython",
    "version": 3
   },
   "file_extension": ".py",
   "mimetype": "text/x-python",
   "name": "python",
   "nbconvert_exporter": "python",
   "pygments_lexer": "ipython3",
   "version": "3.7.3"
  }
 },
 "nbformat": 4,
 "nbformat_minor": 4
}

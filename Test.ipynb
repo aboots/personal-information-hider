{
 "cells": [
  {
   "cell_type": "code",
   "execution_count": 1,
   "metadata": {},
   "outputs": [],
   "source": [
    "from personal_information_hider import run"
   ]
  },
  {
   "cell_type": "code",
   "execution_count": 2,
   "metadata": {},
   "outputs": [
    {
     "name": "stdout",
     "output_type": "stream",
     "text": [
      "سلام. نام من <#person_name#> است. امروز چهارم اردیبهشت ماه سال ۱۴۰۱ می‌باشد. من در حال کار روی تمرین بازیابی هستم و میوه‌های بسیار خوش مزه در کتاب خانه هست. \n",
      "اینجانب <#person_name#> به شماره ملی <#national_number#> هستم و شماره حساب بانک ملت <#account_number#> است. \n",
      "أدرس ایمیل بنده <#email_address#> است و هم‌ چنین می‌‌ توانید به وب سایت <#url_address#> مراجعه کنید. \n",
      "وب سایت <#url_address#> یک وب سایت جامع است. <#person_name#> به شرکت <#company_name#> رفت. \n",
      "شماره تلفن من <#phone#> است و من در <#address#> زندگی می‌کنم.\n"
     ]
    }
   ],
   "source": [
    "print(run('test.txt'))"
   ]
  },
  {
   "cell_type": "code",
   "execution_count": 3,
   "metadata": {},
   "outputs": [
    {
     "name": "stdout",
     "output_type": "stream",
     "text": [
      "<#person_name#> هستم. من علاقه‌ زیادی به کار در شرکت <#company_name#> دارم. من با این شرکت از طریق دوستم <#person_name#> آشنا شدم. \n",
      "از آنجا که این شرکت در <#address#> واقع شده است؛ به دانشگاه ما نزدیک بوده و من برای رفت‌ و آمد با مشکل چندانی رو به رو نخواهم بود. \n",
      "شماره تماس من <#phone#> و ایمیل من <#email_address#> است. در وبلاگ خودم یعنی <#url_address#> بیشتر به علایقم پرداخته‌ام.  <#person_name#> در <#birth_date#> در <#address#> به دنیا آمد.\n"
     ]
    }
   ],
   "source": [
    "print(run('test2.txt'))"
   ]
  },
  {
   "cell_type": "code",
   "execution_count": 4,
   "metadata": {},
   "outputs": [
    {
     "name": "stdout",
     "output_type": "stream",
     "text": [
      "پروفسور <#person_name#> یکی از اساتید دانشکده مهندسی کامپیوتر دانشگاه علم و صنعت هستند که در زمینه‌ی بینایی کامپیوتری، پردازش تصویرو ویدیو فعالیت می‌کنند. آدرس پستی ایشان <#address#> است. برای ارتباط با ایشان می‌توانید با شماره <#phone#> تماس بگیرید و یا به نشانی <#email_address#> ایمیل بزنید. آدرس صفحه شخصی ایشان نیز <#url_address#> می‌باشد. ایشان در موسسه <#company_name#> کار می‌کنند.\n"
     ]
    }
   ],
   "source": [
    "print(run('test3.txt'))"
   ]
  },
  {
   "cell_type": "code",
   "execution_count": null,
   "outputs": [],
   "source": [],
   "metadata": {
    "collapsed": false,
    "pycharm": {
     "name": "#%%\n"
    }
   }
  }
 ],
 "metadata": {
  "celltoolbar": "Raw Cell Format",
  "interpreter": {
   "hash": "f336af7d54ba0f0c1daaf2256eb85f31e983e88153daf7a27ef3ea6c724faba4"
  },
  "kernelspec": {
   "display_name": "Python 3",
   "language": "python",
   "name": "python3"
  },
  "language_info": {
   "codemirror_mode": {
    "name": "ipython",
    "version": 3
   },
   "file_extension": ".py",
   "mimetype": "text/x-python",
   "name": "python",
   "nbconvert_exporter": "python",
   "pygments_lexer": "ipython3",
   "version": "3.7.3"
  }
 },
 "nbformat": 4,
 "nbformat_minor": 4
}
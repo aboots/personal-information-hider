{
 "cells": [
  {
   "cell_type": "code",
   "execution_count": 1,
   "metadata": {},
   "outputs": [],
   "source": [
    "# !pip install beautifulsoup4\n",
    "# !pip install hazm"
   ]
  },
  {
   "cell_type": "code",
   "execution_count": 2,
   "metadata": {},
   "outputs": [],
   "source": [
    "import requests\n",
    "from bs4 import BeautifulSoup\n",
    "import time\n",
    "import json\n",
    "import pandas as pd\n",
    "from hazm import *"
   ]
  },
  {
   "cell_type": "markdown",
   "metadata": {},
   "source": [
    "# Last names data preparation"
   ]
  },
  {
   "cell_type": "markdown",
   "metadata": {},
   "source": [
    "## Data crawling for last name"
   ]
  },
  {
   "cell_type": "markdown",
   "metadata": {},
   "source": [
    "### wikipedia"
   ]
  },
  {
   "cell_type": "code",
   "execution_count": 44,
   "metadata": {},
   "outputs": [],
   "source": [
    "url = 'https://fa.wikipedia.org/w/index.php?title=%D8%B1%D8%AF%D9%87:%D9%86%D8%A7%D9%85%E2%80%8C%D9%87%D8%A7%DB%8C_%D8%AE%D8%A7%D9%86%D9%88%D8%A7%D8%AF%DA%AF%DB%8C&pageuntil=%D8%AA%D8%B1%DB%8C%D8%A7%D9%86#mw-pages'\n",
    "headers = {\n",
    "  'User-Agent': 'Mozilla/5.0 (Windows NT 6.1; WOW64) AppleWebKit/537.36 (KHTML, like Gecko) Chrome/63.0.3239.132 Safari/537.36 QIHU 360SE'\n",
    "}"
   ]
  },
  {
   "cell_type": "code",
   "execution_count": 45,
   "metadata": {},
   "outputs": [],
   "source": [
    "last_names_list = list()"
   ]
  },
  {
   "cell_type": "code",
   "execution_count": 46,
   "metadata": {},
   "outputs": [],
   "source": [
    "while True:\n",
    "    f = requests.get(url, headers = headers)\n",
    "    soup = BeautifulSoup(f.content, 'lxml')\n",
    "    last_name_part = soup.find_all('div', {'id': 'mw-pages'})[0]\n",
    "    last_names_lis = last_name_part.find_all('li')\n",
    "    for last_name in last_names_lis:\n",
    "        text = last_name.find(\"a\").get_text()\n",
    "        if not \"(نام)\" in text:\n",
    "            last_names_list.append(last_name.find(\"a\").get_text().split(\" (\")[0])\n",
    "    all_links = last_name_part.find_all(\"a\", href= True)\n",
    "    end = True\n",
    "    for link in all_links:\n",
    "        if link.get_text() == 'صفحهٔ بعدی':\n",
    "            url = \"https://fa.wikipedia.org\" + link['href']\n",
    "            end = False\n",
    "            break\n",
    "    if end:\n",
    "        break"
   ]
  },
  {
   "cell_type": "markdown",
   "metadata": {},
   "source": [
    "### itel"
   ]
  },
  {
   "cell_type": "code",
   "execution_count": 50,
   "metadata": {},
   "outputs": [],
   "source": [
    "url = 'http://www.itel.ir/page133.aspx'\n",
    "f = requests.get(url, headers = headers)\n",
    "soup = BeautifulSoup(f.content, 'lxml')"
   ]
  },
  {
   "cell_type": "code",
   "execution_count": 58,
   "metadata": {
    "scrolled": false
   },
   "outputs": [],
   "source": [
    "persian_text_prts = soup.find_all('div', {'class' : 'centerboxm'})[0].find_all('span', {'lang' : 'FA'})\n",
    "last_names_list2 = list()\n",
    "for persian_text_part in persian_text_prts:\n",
    "    last_names_list2.append(persian_text_part.get_text())"
   ]
  },
  {
   "cell_type": "code",
   "execution_count": 65,
   "metadata": {},
   "outputs": [],
   "source": [
    "last_names_list.extend(last_names_list2[5:-5])"
   ]
  },
  {
   "cell_type": "code",
   "execution_count": 71,
   "metadata": {},
   "outputs": [
    {
     "data": {
      "text/plain": [
       "1043"
      ]
     },
     "execution_count": 71,
     "metadata": {},
     "output_type": "execute_result"
    }
   ],
   "source": [
    "len(last_names_list)"
   ]
  },
  {
   "cell_type": "markdown",
   "metadata": {},
   "source": [
    "## Writing data in json "
   ]
  },
  {
   "cell_type": "code",
   "execution_count": 72,
   "metadata": {},
   "outputs": [],
   "source": [
    "file = open('last_names.json', 'w')\n",
    "json.dump(last_names_list, file, indent = 6)\n",
    "file.close()"
   ]
  },
  {
   "cell_type": "markdown",
   "metadata": {},
   "source": [
    "# First names data preparation"
   ]
  },
  {
   "cell_type": "code",
   "execution_count": 82,
   "metadata": {},
   "outputs": [],
   "source": [
    "df = pd.read_csv('first_names.csv', index_col=False)\n",
    "\n",
    "normalizer = Normalizer()"
   ]
  },
  {
   "cell_type": "code",
   "execution_count": 90,
   "metadata": {},
   "outputs": [],
   "source": [
    "first_names_list = list()\n",
    "for i in range(len(df['first_name'])):\n",
    "    first_names_list.append(normalizer.normalize(df['first_name'][i]))"
   ]
  },
  {
   "cell_type": "markdown",
   "metadata": {},
   "source": [
    "## Writing data in json "
   ]
  },
  {
   "cell_type": "code",
   "execution_count": 92,
   "metadata": {},
   "outputs": [],
   "source": [
    "file = open('first_names.json', 'w')\n",
    "json.dump(first_names_list, file, indent = 6)\n",
    "file.close()"
   ]
  },
  {
   "cell_type": "markdown",
   "metadata": {},
   "source": [
    "# Loading last names data"
   ]
  },
  {
   "cell_type": "code",
   "execution_count": 98,
   "metadata": {},
   "outputs": [],
   "source": [
    "file = open('last_names.json', 'r')\n",
    "last_names = json.load(file)\n",
    "file.close()\n",
    "\n",
    "last_names_reg = \"\"\n",
    "for last_name in last_names:\n",
    "    last_names_reg += normalizer.normalize(last_name) + \"|\"\n",
    "last_names_reg = last_names_reg[:-1]"
   ]
  },
  {
   "cell_type": "markdown",
   "metadata": {},
   "source": [
    "# Loading first names data"
   ]
  },
  {
   "cell_type": "code",
   "execution_count": 99,
   "metadata": {},
   "outputs": [],
   "source": [
    "file = open('first_names.json', 'r')\n",
    "first_names = json.load(file)\n",
    "file.close()\n",
    "\n",
    "first_names_reg = \"\"\n",
    "for first_name in first_names:\n",
    "    first_names_reg += first_name + \"|\"\n",
    "first_names_reg = first_names_reg[:-1]"
   ]
  },
  {
   "cell_type": "code",
   "execution_count": 164,
   "metadata": {},
   "outputs": [],
   "source": [
    "file = open('last_names_regex.json', 'w')\n",
    "json.dump(last_names_reg, file, indent = 6)\n",
    "file.close()\n",
    "\n",
    "file = open('first_names_regex.json', 'w')\n",
    "json.dump(first_names_reg, file, indent = 6)\n",
    "file.close()"
   ]
  },
  {
   "cell_type": "markdown",
   "metadata": {},
   "source": [
    "# Class for name detection"
   ]
  },
  {
   "cell_type": "code",
   "execution_count": 165,
   "metadata": {},
   "outputs": [],
   "source": [
    "import re\n",
    "\n",
    "class NameDetection:\n",
    "    def __init__(self):\n",
    "        file = open('last_names_regex.json', 'r')\n",
    "        self.last_names_reg = json.load(file)\n",
    "        file.close()\n",
    "\n",
    "        file = open('first_names_regex.json', 'r')\n",
    "        self.first_names_reg = json.load(file)\n",
    "        file.close()\n",
    "        \n",
    "        self.pattern = f\"((({self.first_names_reg})(\\W+))+({self.last_names_reg}))|({self.last_names_reg})|({self.first_names_reg})\"\n",
    "\n",
    "        \n",
    "    def match_name(self, inp):\n",
    "        matches = []\n",
    "        for keyword_count in range(10, 0, -1):\n",
    "            count_pattern = self.pattern.format()\n",
    "            for matched in re.finditer(count_pattern, inp):\n",
    "                start, end = matched.span()\n",
    "                inp = inp[:start] + '#' * (end - start) + inp[end:]\n",
    "                matches.append(matched)\n",
    "        return matches\n",
    "    \n",
    "    def hide_person_name(self, text):\n",
    "        matched_names = self.match_name(text)\n",
    "        for i in matched_names:\n",
    "            text = text.replace(i.group(), \"<#person_name#>\")\n",
    "        return text"
   ]
  },
  {
   "cell_type": "code",
   "execution_count": 168,
   "metadata": {},
   "outputs": [
    {
     "data": {
      "text/plain": [
       "'نام من <#person_name#> است و با دوستانم <#person_name#> و <#person_name#> هم گروه هستم'"
      ]
     },
     "execution_count": 168,
     "metadata": {},
     "output_type": "execute_result"
    }
   ],
   "source": [
    "text = 'نام من یاسمن است و با دوستانم فاطمه عسگری و محمد مهدی ابوترابی هم گروه هستم'\n",
    "NameDetection().hide_person_name(text)"
   ]
  },
  {
   "cell_type": "code",
   "execution_count": null,
   "metadata": {},
   "outputs": [],
   "source": []
  }
 ],
 "metadata": {
  "kernelspec": {
   "display_name": "Python 3",
   "language": "python",
   "name": "python3"
  },
  "language_info": {
   "codemirror_mode": {
    "name": "ipython",
    "version": 3
   },
   "file_extension": ".py",
   "mimetype": "text/x-python",
   "name": "python",
   "nbconvert_exporter": "python",
   "pygments_lexer": "ipython3",
   "version": "3.7.3"
  }
 },
 "nbformat": 4,
 "nbformat_minor": 4
}
